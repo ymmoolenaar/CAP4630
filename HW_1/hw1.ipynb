{
  "cells": [
    {
      "cell_type": "markdown",
      "metadata": {
        "colab_type": "text",
        "id": "work"
      },
      "source": [
        "https://colab.research.google.com/drive/1fkqlSaHfZLa0W_a5EiG6GoQT2K3zr0Xm"
      ]
    }
  ]
}

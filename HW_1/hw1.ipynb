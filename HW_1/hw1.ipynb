import numpy as np
np.random.seed(0)

class Error(Exception):
  pass

class matricesError(Error):
  pass

def multiply_matrices(matrices):
  a = []
  b = []
  output = matrices[0]
  switch = 0
  switch2 = 0
  counter = 0

  while counter != len(matrices) - 1:
    a = output
    b = matrices[counter + 1]
    if len(a[0]) == len(b):
      switch = counter
      switch2 = counter + 1
      output = np.zeros([len(a), len(b[0])], dtype=int)
    else:
      try:
        raise matricesError("Number of columns in the inital matrix doesn't match number of rows in the secondary matrix. The matrices are incompatible.")
        raise Exception
      except Exception as error:
        print("Matrices ", counter, " and ", (counter + 1), " cannot be multiplied.")
        print(repr(error))
        return

    for i in range(len(a)):
      for j in range(len(a[0])):
        for k in range(len(b[0])):
          output[i][k] = output[i][k] + (matrices[switch][i][j] * matrices[switch2][j][k])
    counter = counter + 1
  
  print(output)

x = np.array([[3,2,1,4]]) #1,3
y = np.array([[2,9,0], [1,3,5], [2,4,7], [8,1,5]]) #4,3
z = np.array([[7,9]]) #1,2
myList = [x,y]

multiply_matrices(myList)

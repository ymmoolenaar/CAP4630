{
  "nbformat": 4,
  "nbformat_minor": 0,
  "metadata": {
    "colab": {
      "name": "hw2q3.ipynb",
      "provenance": [],
      "authorship_tag": "ABX9TyNzlfKwCxqf/KftambmMfE0",
      "include_colab_link": true
    },
    "kernelspec": {
      "name": "python3",
      "display_name": "Python 3"
    }
  },
  "cells": [
    {
      "cell_type": "markdown",
      "metadata": {
        "id": "view-in-github",
        "colab_type": "text"
      },
      "source": [
        "<a href=\"https://colab.research.google.com/github/ymmoolenaar/CAP4630/blob/master/HW_2/hw2q3.ipynb\" target=\"_parent\"><img src=\"https://colab.research.google.com/assets/colab-badge.svg\" alt=\"Open In Colab\"/></a>"
      ]
    },
    {
      "cell_type": "markdown",
      "metadata": {
        "id": "1btLOkniK0kO",
        "colab_type": "text"
      },
      "source": [
        "What does an average MNIST digit look like? For each i=0,1,...,9, compute the average of digit i and display it. More precisely, you have add all the images of the digit i together and divide it by the number of times the digit i occurs in the data set."
      ]
    },
    {
      "cell_type": "code",
      "metadata": {
        "id": "bqyKyNA9Yun8",
        "colab_type": "code",
        "outputId": "e7267061-de54-44a3-9ef3-d741899a8475",
        "colab": {
          "base_uri": "https://localhost:8080/",
          "height": 134
        }
      },
      "source": [
        "%tensorflow_version 2.x\n",
        "import tensorflow as tf\n",
        "%matplotlib inline\n",
        "import matplotlib.pyplot as plt\n",
        "import numpy as np\n",
        "\n",
        "(train_images, train_labels), (test_images, test_labels) = tf.keras.datasets.mnist.load_data()\n",
        "Sum = np.array([0,0,0,0,0,0,0,0,0,0])\n",
        "Freq = np.array([0,0,0,0,0,0,0,0,0,0])\n",
        "\n",
        "for x in train_labels:\n",
        "  i = train_labels[x]\n",
        "  if 0 <= i <= 9:\n",
        "    Freq[i] += 1\n",
        "    Sum[i] += i\n",
        "\n",
        "for x in range(10):\n",
        "  if Freq[x] == 0:\n",
        "    continue\n",
        "  print(Sum[x], \" / \", Freq[x], \" = \", Sum[x] / Freq[x])"
      ],
      "execution_count": 0,
      "outputs": [
        {
          "output_type": "stream",
          "text": [
            "0  /  6742  =  0.0\n",
            "17900  /  17900  =  1.0\n",
            "10842  /  5421  =  2.0\n",
            "18795  /  6265  =  3.0\n",
            "47628  /  11907  =  4.0\n",
            "29615  /  5923  =  5.0\n",
            "52578  /  5842  =  9.0\n"
          ],
          "name": "stdout"
        }
      ]
    }
  ]
}